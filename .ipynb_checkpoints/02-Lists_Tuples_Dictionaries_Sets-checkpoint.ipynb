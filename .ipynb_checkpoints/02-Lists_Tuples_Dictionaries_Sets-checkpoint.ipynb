{
 "cells": [
  {
   "cell_type": "markdown",
   "metadata": {},
   "source": [
    "## Lists\n",
    "\n",
    "Lists are good for keeping track of things by their order, especially when that order might change.\n",
    "\n",
    "* Lists are mutable; you can add new elements, and modify or delete existing ones\n",
    "* A list is made of zero or more elements separated by commas, and surrounded by square brackets\n",
    "* The same value can occur more than once in a list\n",
    "* Lists can contain elements of different types, including other lists\n",
    "* To create a list you can use `[]` or the `list()` function"
   ]
  },
  {
   "cell_type": "code",
   "execution_count": 1,
   "metadata": {},
   "outputs": [
    {
     "name": "stdout",
     "output_type": "stream",
     "text": [
      "[]\n"
     ]
    }
   ],
   "source": [
    "empty_list = []\n",
    "print(empty_list)"
   ]
  },
  {
   "cell_type": "code",
   "execution_count": 2,
   "metadata": {},
   "outputs": [
    {
     "name": "stdout",
     "output_type": "stream",
     "text": [
      "[]\n"
     ]
    }
   ],
   "source": [
    "another_empty_list = list()\n",
    "print(another_empty_list)"
   ]
  },
  {
   "cell_type": "code",
   "execution_count": 3,
   "metadata": {},
   "outputs": [
    {
     "name": "stdout",
     "output_type": "stream",
     "text": [
      "['Monday', 'Tuesday', 'Wednesday', 'Thursday', 'Friday']\n"
     ]
    }
   ],
   "source": [
    "weekdays = ['Monday', 'Tuesday', 'Wednesday', 'Thursday', 'Friday']\n",
    "print(weekdays)"
   ]
  },
  {
   "cell_type": "markdown",
   "metadata": {},
   "source": [
    "## List Type Conversion\n",
    "\n",
    "To change other Python data types to a list, use the `list()` function. The following example converts a string to a list of one-character strings."
   ]
  },
  {
   "cell_type": "code",
   "execution_count": 4,
   "metadata": {},
   "outputs": [
    {
     "data": {
      "text/plain": [
       "['s', 'u', 'n', 's', 'h', 'i', 'n', 'e']"
      ]
     },
     "execution_count": 4,
     "metadata": {},
     "output_type": "execute_result"
    }
   ],
   "source": [
    "list('sunshine')"
   ]
  },
  {
   "cell_type": "markdown",
   "metadata": {},
   "source": [
    "## Item Extraction\n",
    "\n",
    "To extract a single value from a list use it's offset. **If you specify an offset before the beginning or after the ending, you'll get an exception error.**"
   ]
  },
  {
   "cell_type": "code",
   "execution_count": 5,
   "metadata": {},
   "outputs": [
    {
     "name": "stdout",
     "output_type": "stream",
     "text": [
      "Friday\n"
     ]
    }
   ],
   "source": [
    "weekdays = ['Monday', 'Tuesday', 'Wednesday', 'Thursday', 'Friday']\n",
    "print(weekdays[4])"
   ]
  },
  {
   "cell_type": "code",
   "execution_count": 6,
   "metadata": {},
   "outputs": [
    {
     "name": "stdout",
     "output_type": "stream",
     "text": [
      "Friday\n"
     ]
    }
   ],
   "source": [
    "weekdays = ['Monday', 'Tuesday', 'Wednesday', 'Thursday', 'Friday']\n",
    "print(weekdays[-1])"
   ]
  },
  {
   "cell_type": "code",
   "execution_count": 7,
   "metadata": {},
   "outputs": [
    {
     "name": "stdout",
     "output_type": "stream",
     "text": [
      "beagle\n"
     ]
    }
   ],
   "source": [
    "dogs = ['poodle','beagle','lab']\n",
    "birds = ['bluejay', 'cardinal', 'finch']\n",
    "cats = ['siamese', 'tabby', 'calico']\n",
    "\n",
    "pets = [dogs, birds, cats]\n",
    "\n",
    "print(pets[0][1])"
   ]
  },
  {
   "cell_type": "markdown",
   "metadata": {},
   "source": [
    "## Subsequence Extraction\n",
    "\n",
    "You can extract a subsequence of a list by using slice. *A slice of a list is also a list.*"
   ]
  },
  {
   "cell_type": "code",
   "execution_count": 8,
   "metadata": {},
   "outputs": [
    {
     "name": "stdout",
     "output_type": "stream",
     "text": [
      "['poodle', 'beagle']\n"
     ]
    }
   ],
   "source": [
    "dogs = ['poodle','beagle','lab']\n",
    "print(dogs[0:2])"
   ]
  },
  {
   "cell_type": "code",
   "execution_count": 9,
   "metadata": {},
   "outputs": [
    {
     "data": {
      "text/plain": [
       "['Monday', 'Wednesday', 'Friday']"
      ]
     },
     "execution_count": 9,
     "metadata": {},
     "output_type": "execute_result"
    }
   ],
   "source": [
    "weekdays = ['Monday', 'Tuesday', 'Wednesday', 'Thursday', 'Friday']\n",
    "weekdays[::2]"
   ]
  },
  {
   "cell_type": "markdown",
   "metadata": {},
   "source": [
    "## Change a List Item\n",
    "\n",
    "Just as you can get a value of an item using offset, you can change it, too. **If you specify an offset before the beginning or after the ending, you'll get an exception error.**"
   ]
  },
  {
   "cell_type": "code",
   "execution_count": 10,
   "metadata": {},
   "outputs": [
    {
     "name": "stdout",
     "output_type": "stream",
     "text": [
      "['Harry', 'Alice', 'Jane']\n"
     ]
    }
   ],
   "source": [
    "students = ['Harry', 'Sally', 'Jane']\n",
    "students[1] = 'Alice'\n",
    "print(students)"
   ]
  },
  {
   "cell_type": "markdown",
   "metadata": {},
   "source": [
    "## Add a Item to a List\n",
    "\n",
    "### `append()`\n",
    "\n",
    "You can add an item to the end of a list using the `append()` function."
   ]
  },
  {
   "cell_type": "code",
   "execution_count": 11,
   "metadata": {},
   "outputs": [
    {
     "name": "stdout",
     "output_type": "stream",
     "text": [
      "['Harry', 'Sally', 'Jane', 'Alice']\n"
     ]
    }
   ],
   "source": [
    "students = ['Harry', 'Sally', 'Jane']\n",
    "students.append('Alice')\n",
    "print(students)"
   ]
  },
  {
   "cell_type": "markdown",
   "metadata": {},
   "source": [
    "### `extend()`\n",
    "\n",
    "You can merge lists using the `extend()` function."
   ]
  },
  {
   "cell_type": "code",
   "execution_count": 12,
   "metadata": {},
   "outputs": [
    {
     "name": "stdout",
     "output_type": "stream",
     "text": [
      "class a ['Harry', 'Sally', 'Jane', 'Robert', 'Mary', 'Peter']\n",
      "class b ['Robert', 'Mary', 'Peter']\n"
     ]
    }
   ],
   "source": [
    "class_a = ['Harry', 'Sally', 'Jane']\n",
    "class_b = ['Robert', 'Mary', 'Peter']\n",
    "class_a.extend(class_b)\n",
    "\n",
    "print('class a', class_a)\n",
    "print('class b', class_b)"
   ]
  },
  {
   "cell_type": "markdown",
   "metadata": {},
   "source": [
    "### `+=`\n",
    "\n",
    "Alternately, you can use `+=`."
   ]
  },
  {
   "cell_type": "code",
   "execution_count": 13,
   "metadata": {},
   "outputs": [
    {
     "name": "stdout",
     "output_type": "stream",
     "text": [
      "class a ['Harry', 'Sally', 'Jane', 'Robert', 'Mary', 'Peter']\n",
      "class b ['Robert', 'Mary', 'Peter']\n"
     ]
    }
   ],
   "source": [
    "class_a = ['Harry', 'Sally', 'Jane']\n",
    "class_b = ['Robert', 'Mary', 'Peter']\n",
    "class_a += class_b\n",
    "\n",
    "print('class a', class_a)\n",
    "print('class b', class_b)"
   ]
  },
  {
   "cell_type": "markdown",
   "metadata": {},
   "source": [
    "### `insert()`\n",
    "\n",
    "You can add an item before any offset in a list using the `insert()` function.\n",
    "\n",
    "* Offset `0` inserts at the beginning.\n",
    "* Offset beyond the end of the list inserts at the end"
   ]
  },
  {
   "cell_type": "code",
   "execution_count": 14,
   "metadata": {},
   "outputs": [
    {
     "name": "stdout",
     "output_type": "stream",
     "text": [
      "['Charlie', 'Oz', 'Joey', 'Rock', 'Pee wee', 'Buck']\n"
     ]
    }
   ],
   "source": [
    "dogs = ['Charlie', 'Oz', 'Joey', 'Rock', 'Buck']\n",
    "dogs.insert(4, 'Pee wee')\n",
    "print(dogs)"
   ]
  },
  {
   "cell_type": "markdown",
   "metadata": {},
   "source": [
    "## Remove an Item from a List\n",
    "\n",
    "### `del`\n",
    "\n",
    "You can remove an item from a list with the `del` statement."
   ]
  },
  {
   "cell_type": "code",
   "execution_count": 15,
   "metadata": {},
   "outputs": [
    {
     "name": "stdout",
     "output_type": "stream",
     "text": [
      "['Olga', 'Jon', 'Linda', 'Gordon', 'Rhonda', 'Taylor']\n"
     ]
    }
   ],
   "source": [
    "students = ['Olga', 'Jon', 'Linda', 'Josh', 'Gordon', 'Rhonda', 'Taylor']\n",
    "del students[3]\n",
    "print(students)"
   ]
  },
  {
   "cell_type": "markdown",
   "metadata": {},
   "source": [
    "### `remove()` \n",
    "\n",
    "If you don't know or don't care where an item is in the list, you can use the `remove()` method to remove an item from a list. `remove()` will remove the first occurrence it finds."
   ]
  },
  {
   "cell_type": "code",
   "execution_count": 16,
   "metadata": {},
   "outputs": [
    {
     "name": "stdout",
     "output_type": "stream",
     "text": [
      "['Zack', 'Jeff', 'John', 'Harris']\n"
     ]
    }
   ],
   "source": [
    "students = ['Zack', 'Jeff', 'John', 'Harris', 'Harris']\n",
    "students.remove('Harris')\n",
    "print(students)"
   ]
  },
  {
   "cell_type": "markdown",
   "metadata": {},
   "source": [
    "### `pop()`\n",
    "\n",
    "You can get an item from a list and delete it from the list using the `pop()` method. If you call `pop()` with an offset, it will return the item of that offset. With no argument passed, `pop()` will use `-1`."
   ]
  },
  {
   "cell_type": "code",
   "execution_count": 17,
   "metadata": {},
   "outputs": [
    {
     "name": "stdout",
     "output_type": "stream",
     "text": [
      "purple\n",
      "['red', 'blue', 'green', 'yellow', 'orange']\n"
     ]
    }
   ],
   "source": [
    "colors = ['red', 'blue', 'green', 'yellow', 'orange', 'purple']\n",
    "\n",
    "print(colors.pop())\n",
    "print(colors)"
   ]
  },
  {
   "cell_type": "code",
   "execution_count": 18,
   "metadata": {},
   "outputs": [
    {
     "name": "stdout",
     "output_type": "stream",
     "text": [
      "red\n",
      "['blue', 'green', 'yellow', 'orange', 'purple']\n"
     ]
    }
   ],
   "source": [
    "colors = ['red', 'blue', 'green', 'yellow', 'orange', 'purple']\n",
    "\n",
    "print(colors.pop(0))\n",
    "print(colors)"
   ]
  },
  {
   "cell_type": "code",
   "execution_count": 19,
   "metadata": {},
   "outputs": [
    {
     "name": "stdout",
     "output_type": "stream",
     "text": [
      "green\n",
      "['red', 'blue', 'yellow', 'orange', 'purple']\n"
     ]
    }
   ],
   "source": [
    "colors = ['red', 'blue', 'green', 'yellow', 'orange', 'purple']\n",
    "\n",
    "print(colors.pop(2))\n",
    "print(colors)"
   ]
  },
  {
   "cell_type": "markdown",
   "metadata": {},
   "source": [
    "## Find an Item in a List\n",
    "\n",
    "`index()` lets you find the offset of an item by its value."
   ]
  },
  {
   "cell_type": "code",
   "execution_count": 20,
   "metadata": {},
   "outputs": [
    {
     "name": "stdout",
     "output_type": "stream",
     "text": [
      "2\n"
     ]
    }
   ],
   "source": [
    "attendees = ['Beth', 'Jake', 'Aaron', 'Paul', 'Eric', 'Melissa']\n",
    "print(attendees.index('Aaron'))"
   ]
  },
  {
   "cell_type": "markdown",
   "metadata": {},
   "source": [
    "**The Pythonic way to check for the existence of a value in a list is using `in`:**"
   ]
  },
  {
   "cell_type": "code",
   "execution_count": 21,
   "metadata": {},
   "outputs": [
    {
     "name": "stdout",
     "output_type": "stream",
     "text": [
      "True\n"
     ]
    }
   ],
   "source": [
    "colors = ['red', 'blue', 'green', 'yellow', 'orange', 'purple']\n",
    "\n",
    "print('red' in colors)"
   ]
  },
  {
   "cell_type": "markdown",
   "metadata": {},
   "source": [
    "## Count Occurrences in a List\n",
    "\n",
    "Use the `count()` method to count how many times a value occurs in a list."
   ]
  },
  {
   "cell_type": "code",
   "execution_count": 22,
   "metadata": {},
   "outputs": [
    {
     "name": "stdout",
     "output_type": "stream",
     "text": [
      "2\n"
     ]
    }
   ],
   "source": [
    "words = ['Duck', 'Duck', 'Goose']\n",
    "print(words.count('Duck'))"
   ]
  },
  {
   "cell_type": "markdown",
   "metadata": {},
   "source": [
    "## Convert a List to a String\n",
    "\n",
    "The `join()` collapses a list of strings into a single string."
   ]
  },
  {
   "cell_type": "code",
   "execution_count": 23,
   "metadata": {},
   "outputs": [
    {
     "data": {
      "text/plain": [
       "'do homework, do laundry, walk the dog'"
      ]
     },
     "execution_count": 23,
     "metadata": {},
     "output_type": "execute_result"
    }
   ],
   "source": [
    "todos = ['do homework', 'do laundry', 'walk the dog']\n",
    "', '.join(todos)"
   ]
  },
  {
   "cell_type": "markdown",
   "metadata": {},
   "source": [
    "## Reorder List Items with Sort\n",
    "\n",
    "### `sort()`\n",
    "\n",
    "The `sort()` method sorts items in place."
   ]
  },
  {
   "cell_type": "code",
   "execution_count": 24,
   "metadata": {},
   "outputs": [
    {
     "name": "stdout",
     "output_type": "stream",
     "text": [
      "['blue', 'green', 'orange', 'purple', 'red', 'yellow']\n"
     ]
    }
   ],
   "source": [
    "colors = ['red', 'blue', 'green', 'yellow', 'orange', 'purple']\n",
    "colors.sort()\n",
    "\n",
    "print(colors)"
   ]
  },
  {
   "cell_type": "markdown",
   "metadata": {},
   "source": [
    "### `sorted()`\n",
    "\n",
    "The `sorted()` method returns a sorted copy of a list. The original list is left intact."
   ]
  },
  {
   "cell_type": "code",
   "execution_count": 25,
   "metadata": {},
   "outputs": [
    {
     "name": "stdout",
     "output_type": "stream",
     "text": [
      "['blue', 'green', 'orange', 'purple', 'red', 'yellow']\n",
      "['red', 'blue', 'green', 'yellow', 'orange', 'purple']\n"
     ]
    }
   ],
   "source": [
    "colors = ['red', 'blue', 'green', 'yellow', 'orange', 'purple']\n",
    "\n",
    "print(sorted(colors))\n",
    "print(colors)"
   ]
  },
  {
   "cell_type": "markdown",
   "metadata": {},
   "source": [
    "### You can mix integers and floats"
   ]
  },
  {
   "cell_type": "code",
   "execution_count": 26,
   "metadata": {},
   "outputs": [
    {
     "name": "stdout",
     "output_type": "stream",
     "text": [
      "[1, 2, 3, 3.2, 6]\n"
     ]
    }
   ],
   "source": [
    "numbers = [1,3,6,2,3.2]\n",
    "numbers.sort()\n",
    "\n",
    "print(numbers)"
   ]
  },
  {
   "cell_type": "markdown",
   "metadata": {},
   "source": [
    "### You can sort in reverse"
   ]
  },
  {
   "cell_type": "code",
   "execution_count": 27,
   "metadata": {},
   "outputs": [
    {
     "name": "stdout",
     "output_type": "stream",
     "text": [
      "[6, 3.2, 3, 2, 1]\n"
     ]
    }
   ],
   "source": [
    "numbers = [1,3,6,2,3.2]\n",
    "numbers.sort(reverse=True)\n",
    "\n",
    "print(numbers)"
   ]
  },
  {
   "cell_type": "markdown",
   "metadata": {},
   "source": [
    "## Length Method\n",
    "\n",
    "`len()` returns the number of items in a list."
   ]
  },
  {
   "cell_type": "code",
   "execution_count": 28,
   "metadata": {},
   "outputs": [
    {
     "name": "stdout",
     "output_type": "stream",
     "text": [
      "6\n"
     ]
    }
   ],
   "source": [
    "colors = ['red', 'blue', 'green', 'yellow', 'orange', 'purple']\n",
    "colors_length = len(colors)\n",
    "\n",
    "print(colors_length)"
   ]
  },
  {
   "cell_type": "markdown",
   "metadata": {},
   "source": [
    "## Assignment and Copy\n",
    "\n",
    "### `=`\n",
    "\n",
    "When you assign one list to more than one variable, changing this list in one place with also change it in the other."
   ]
  },
  {
   "cell_type": "code",
   "execution_count": 29,
   "metadata": {},
   "outputs": [
    {
     "name": "stdout",
     "output_type": "stream",
     "text": [
      "['surprise', 2, 3]\n"
     ]
    }
   ],
   "source": [
    "a = [1,2,3]\n",
    "b = a\n",
    "\n",
    "a[0] = 'surprise'\n",
    "\n",
    "print(b)"
   ]
  },
  {
   "cell_type": "markdown",
   "metadata": {},
   "source": [
    "### Independent Copy\n",
    "\n",
    "In the above example, b points to the same list object as a. When you change the list contents by using either a or b, it's reflected in both.\n",
    "\n",
    "If you want to copy the value of a list to an independent list, use can use any of these methods:\n",
    "\n",
    "* `copy()`\n",
    "* `list()`\n",
    "* `list slice [:]`\n",
    "\n",
    "### `copy()`"
   ]
  },
  {
   "cell_type": "code",
   "execution_count": 30,
   "metadata": {},
   "outputs": [
    {
     "name": "stdout",
     "output_type": "stream",
     "text": [
      "['surprise', 2, 3]\n",
      "[1, 2, 3]\n"
     ]
    }
   ],
   "source": [
    "a = [1,2,3]\n",
    "b = a.copy()\n",
    "\n",
    "a[0] = 'surprise'\n",
    "\n",
    "print(a)\n",
    "print(b)"
   ]
  },
  {
   "cell_type": "markdown",
   "metadata": {},
   "source": [
    "### `list()`"
   ]
  },
  {
   "cell_type": "code",
   "execution_count": 31,
   "metadata": {},
   "outputs": [
    {
     "name": "stdout",
     "output_type": "stream",
     "text": [
      "['surprise', 2, 3]\n",
      "[1, 2, 3]\n"
     ]
    }
   ],
   "source": [
    "a = [1,2,3]\n",
    "b = list(a)\n",
    "\n",
    "a[0] = 'surprise'\n",
    "\n",
    "print(a)\n",
    "print(b)"
   ]
  },
  {
   "cell_type": "markdown",
   "metadata": {},
   "source": [
    "### `list slice [:]`"
   ]
  },
  {
   "cell_type": "code",
   "execution_count": 32,
   "metadata": {},
   "outputs": [
    {
     "name": "stdout",
     "output_type": "stream",
     "text": [
      "['surprise', 2, 3]\n",
      "[1, 2, 3]\n"
     ]
    }
   ],
   "source": [
    "a = [1,2,3]\n",
    "b = a[:]\n",
    "\n",
    "a[0] = 'surprise'\n",
    "\n",
    "print(a)\n",
    "print(b)"
   ]
  },
  {
   "cell_type": "markdown",
   "metadata": {},
   "source": [
    "## Tuples\n",
    "\n",
    "Like lists, tuples are sequences of arbitrary items, but unlike lists, tuples are immutable. You can't add, delete or change items after a tuple is defined. Think of a tuple as a constant list.\n",
    "\n",
    "### Empty tuple\n",
    "\n",
    "To create a tuple you can use `()`."
   ]
  },
  {
   "cell_type": "code",
   "execution_count": 33,
   "metadata": {},
   "outputs": [
    {
     "name": "stdout",
     "output_type": "stream",
     "text": [
      "()\n"
     ]
    }
   ],
   "source": [
    "empty_tuple = ()\n",
    "print(empty_tuple)"
   ]
  },
  {
   "cell_type": "markdown",
   "metadata": {},
   "source": [
    "### One item tuple\n",
    "\n",
    "To make a tuple with one item, follow the item with a comma."
   ]
  },
  {
   "cell_type": "code",
   "execution_count": 34,
   "metadata": {},
   "outputs": [
    {
     "name": "stdout",
     "output_type": "stream",
     "text": [
      "('red',)\n"
     ]
    }
   ],
   "source": [
    "one_item_tuple = 'red',\n",
    "print(one_item_tuple)"
   ]
  },
  {
   "cell_type": "markdown",
   "metadata": {},
   "source": [
    "### Multi-item tuple\n",
    "\n",
    "If you have more than one item, follow all but the last one with a comma."
   ]
  },
  {
   "cell_type": "code",
   "execution_count": 35,
   "metadata": {},
   "outputs": [
    {
     "name": "stdout",
     "output_type": "stream",
     "text": [
      "('red', 'blue', 'yellow')\n"
     ]
    }
   ],
   "source": [
    "multi_item_tuple = 'red', 'blue', 'yellow'\n",
    "print(multi_item_tuple)"
   ]
  },
  {
   "cell_type": "markdown",
   "metadata": {},
   "source": [
    "Python includes parentheses when echoing tuples. You don't need them - it's the trailing commas that define a tuple - but they don't hurt."
   ]
  },
  {
   "cell_type": "code",
   "execution_count": 36,
   "metadata": {},
   "outputs": [
    {
     "name": "stdout",
     "output_type": "stream",
     "text": [
      "('cat', 'dog', 'fish')\n"
     ]
    }
   ],
   "source": [
    "pets = ('cat', 'dog', 'fish') # is the same as pets = 'cat', 'dog', 'fish'\n",
    "print(pets)"
   ]
  },
  {
   "cell_type": "markdown",
   "metadata": {},
   "source": [
    "Tuples let you assign multiple variables at once. This is sometimes called *tuple unpacking*."
   ]
  },
  {
   "cell_type": "code",
   "execution_count": 37,
   "metadata": {},
   "outputs": [
    {
     "name": "stdout",
     "output_type": "stream",
     "text": [
      "Sally\n",
      "Jane\n",
      "Eric\n"
     ]
    }
   ],
   "source": [
    "first, second, third = ('Sally', 'Jane', 'Eric')\n",
    "\n",
    "print(first)\n",
    "print(second)\n",
    "print(third)"
   ]
  },
  {
   "cell_type": "markdown",
   "metadata": {},
   "source": [
    "## Tuple Type Conversion\n",
    "\n",
    "To change other Python data types to an tuple, use the `tuple()` function."
   ]
  },
  {
   "cell_type": "code",
   "execution_count": 38,
   "metadata": {},
   "outputs": [
    {
     "data": {
      "text/plain": [
       "('red', 'yellow', 'green')"
      ]
     },
     "execution_count": 38,
     "metadata": {},
     "output_type": "execute_result"
    }
   ],
   "source": [
    "colors = ['red', 'yellow', 'green']\n",
    "tuple(colors)"
   ]
  },
  {
   "cell_type": "markdown",
   "metadata": {},
   "source": [
    "## Dictionaries\n",
    "\n",
    "A dictionary is similar to a list, but the order of items doesn't matter, and you use a unique key to access each value, not an offset. The key is usually a string, but it can be any of Python's immutable types: `boolean`, `float`, `integer`, `tuple`, `string`, and others we'll learn about later.\n",
    "\n",
    "Dictionaries are mutable, so you can add, delete and modify their key-value elements."
   ]
  },
  {
   "cell_type": "code",
   "execution_count": null,
   "metadata": {},
   "outputs": [],
   "source": []
  }
 ],
 "metadata": {
  "kernelspec": {
   "display_name": "Python 3",
   "language": "python",
   "name": "python3"
  },
  "language_info": {
   "codemirror_mode": {
    "name": "ipython",
    "version": 3
   },
   "file_extension": ".py",
   "mimetype": "text/x-python",
   "name": "python",
   "nbconvert_exporter": "python",
   "pygments_lexer": "ipython3",
   "version": "3.7.2"
  }
 },
 "nbformat": 4,
 "nbformat_minor": 2
}
