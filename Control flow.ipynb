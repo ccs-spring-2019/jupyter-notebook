{
 "cells": [
  {
   "cell_type": "markdown",
   "metadata": {},
   "source": [
    "# if, elif, and else"
   ]
  },
  {
   "cell_type": "code",
   "execution_count": 7,
   "metadata": {},
   "outputs": [
    {
     "name": "stdout",
     "output_type": "stream",
     "text": [
      "Bummer!\n"
     ]
    }
   ],
   "source": [
    "happy = False\n",
    "\n",
    "if happy:\n",
    "    print('Woowhooo!')\n",
    "else:\n",
    "    print('Bummer!')"
   ]
  },
  {
   "cell_type": "markdown",
   "metadata": {},
   "source": [
    "The if and else lines are Python statements the check whether a condition is True."
   ]
  },
  {
   "cell_type": "markdown",
   "metadata": {},
   "source": [
    "You can have tests with tests, as many levels deep as needed."
   ]
  },
  {
   "cell_type": "code",
   "execution_count": 10,
   "metadata": {},
   "outputs": [
    {
     "name": "stdout",
     "output_type": "stream",
     "text": [
      "It is a small, fluffy dog! How cute!\n"
     ]
    }
   ],
   "source": [
    "small = True\n",
    "fluffy = True\n",
    "animal = 'dog'\n",
    "\n",
    "if small:\n",
    "    if fluffy:\n",
    "        if animal == 'dog':\n",
    "            print('It is a small, fluffy dog! How cute!')\n",
    "        else:\n",
    "            print('It is not a small, fluffy dog. Bummer!')\n",
    "    else:\n",
    "        print('It is small and hairless!')\n",
    "else: print('It is big!')"
   ]
  },
  {
   "cell_type": "markdown",
   "metadata": {},
   "source": [
    "If there are more than two possibilities to test, use if, elif (meaning else if), and else:"
   ]
  },
  {
   "cell_type": "code",
   "execution_count": 15,
   "metadata": {},
   "outputs": [
    {
     "name": "stdout",
     "output_type": "stream",
     "text": [
      "speed up\n"
     ]
    }
   ],
   "source": [
    "color = 'yellow'\n",
    "\n",
    "if color == 'red':\n",
    "    print('stop')\n",
    "elif color == 'yellow':\n",
    "    print('speed up')\n",
    "elif color == 'green':\n",
    "    print('go')\n",
    "else:\n",
    "    print('I don\\'t know what to do!')"
   ]
  },
  {
   "cell_type": "markdown",
   "metadata": {},
   "source": [
    "### Testing for equality\n",
    "\n",
    "```\n",
    "==          equlality\n",
    "\n",
    "!=          inequality\n",
    "\n",
    "<           less than\n",
    "\n",
    "<=          less than or equal to\n",
    "\n",
    ">           greater than\n",
    "\n",
    ">=          greater than or equal to\n",
    "\n",
    "in...       membership\n",
    "\n",
    "```\n"
   ]
  }
 ],
 "metadata": {
  "kernelspec": {
   "display_name": "Python 3",
   "language": "python",
   "name": "python3"
  },
  "language_info": {
   "codemirror_mode": {
    "name": "ipython",
    "version": 3
   },
   "file_extension": ".py",
   "mimetype": "text/x-python",
   "name": "python",
   "nbconvert_exporter": "python",
   "pygments_lexer": "ipython3",
   "version": "3.7.2"
  }
 },
 "nbformat": 4,
 "nbformat_minor": 2
}
