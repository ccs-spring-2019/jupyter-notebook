{
 "cells": [
  {
   "cell_type": "markdown",
   "metadata": {},
   "source": [
    "## Getting Started\n",
    "\n",
    "Let's start by taking a look at Python's simplest built-in data types:\n",
    "\n",
    "* booleans: True or False\n",
    "* integers: wholes numbers, e.g. 14 or 39\n",
    "* floats: numbers with decimal points, e.g. 4.32 or 98.2\n",
    "* strings: sequences of text characters, e.g. 'The dish ran away with the spoon.'\n",
    "\n",
    "Each type has specific rules for its usage and is handled differently by the computer.\n",
    "\n",
    "## Variables\n",
    "\n",
    "Programming languages allows you to define variables, labels that refer to values stored in the computer's memory. In Python, you use `=` to assign a value.\n",
    "\n",
    "The following is a two-line Python program that assigns the value of `'Adam'` to the variable name `student` and then prints the value currently associated with student:"
   ]
  },
  {
   "cell_type": "code",
   "execution_count": 1,
   "metadata": {},
   "outputs": [
    {
     "name": "stdout",
     "output_type": "stream",
     "text": [
      "Adam\n"
     ]
    }
   ],
   "source": [
    "student = 'Adam'\n",
    "print(student)"
   ]
  },
  {
   "cell_type": "markdown",
   "metadata": {},
   "source": [
    "## Student Exercise"
   ]
  },
  {
   "cell_type": "code",
   "execution_count": 2,
   "metadata": {},
   "outputs": [],
   "source": [
    "# Assign a value to the name a.\n",
    "\n",
    "\n",
    "# Print the value of a.\n",
    "\n",
    "\n",
    "# Assign a to b.\n",
    "\n",
    "\n",
    "# Print the value of b.\n",
    "\n"
   ]
  },
  {
   "cell_type": "markdown",
   "metadata": {},
   "source": [
    "## Variable Type\n",
    "\n",
    "In Python, if you want to know the type of a thing - a variable or literal value - use `type(thing)`.\n",
    "\n",
    "## Student Exercise"
   ]
  },
  {
   "cell_type": "code",
   "execution_count": 3,
   "metadata": {},
   "outputs": [],
   "source": [
    "# Assign a `string` value to the variable name `student`.\n",
    "\n",
    "\n",
    "# Print the type of `student`.\n",
    "\n",
    "\n",
    "# Assign a `boolean` value to the variable name `hungry`.\n",
    "\n",
    "\n",
    "# Print the type of `hungry`.\n",
    "\n",
    "\n",
    "# Print the type of `42.9`\n",
    "\n"
   ]
  },
  {
   "cell_type": "markdown",
   "metadata": {},
   "source": [
    "## Varible Names\n",
    "\n",
    "Variable names may only contain these characters:\n",
    "\n",
    "* Lowercase letters (a through z)\n",
    "* Uppercase letters (A through Z)\n",
    "* Digits (0 through 9)\n",
    "* Underscore (_)\n",
    "\n",
    "Names cannot begin with a digit. Also, variable names that begin with an underscore are treated in special ways. Names that begin and end with two underscores, `__` are reserved for use within Python, so do not use them when defining variable names.\n",
    "\n",
    "## Student Exercise\n",
    "\n",
    "Which names are valid variable names:\n",
    "```\n",
    "a. unicorn\n",
    "b. _unicorn123\n",
    "c. 1_unicorn\n",
    "d. Unicorn_123\n",
    "```\n",
    "\n",
    "## Reserved Words\n",
    "\n",
    "Do not use any of the following for varaible names:\n",
    "```\n",
    "False         def           if            raise\n",
    "None          del           import        return\n",
    "True          elif          in            try\n",
    "and           else          is            while\n",
    "as            except        lambda        with\n",
    "assert        finally       nonlocal      yield\n",
    "break         for           not      \n",
    "class         from          or       \n",
    "continue      global        pass   \n",
    "```"
   ]
  },
  {
   "cell_type": "markdown",
   "metadata": {},
   "source": [
    "## Numbers\n",
    "\n",
    "Python has built-in support for `integers` (whole numbers) and `floats` (numbers with decimal points).\n",
    "\n",
    "You can calculate combinations of numbers with math operators:\n",
    "```\n",
    "+     addition\n",
    "\n",
    "-     subtraction\n",
    "\n",
    "*     multiplation\n",
    "\n",
    "/     floating point division\n",
    "\n",
    "//    integer (truncating) division\n",
    "\n",
    "%     modulus (remainder)\n",
    "\n",
    "**    exponentation \n",
    "```\n",
    "## Student Exercise\n",
    "\n",
    "Create a separate expression for each math operator defined above."
   ]
  },
  {
   "cell_type": "code",
   "execution_count": 4,
   "metadata": {},
   "outputs": [],
   "source": [
    "# Create a addition expression\n",
    "\n",
    "\n",
    "# Create a subtraction expression\n",
    "\n",
    "\n",
    "# Create a multiplication expression\n",
    "\n",
    "\n",
    "# Create a floating point division expression\n",
    "\n",
    "\n",
    "# Create an integer (truncating) division expression\n",
    "\n",
    "\n",
    "# Create a modulus expression\n",
    "\n",
    "\n",
    "# Create an exponentation expression\n",
    "\n"
   ]
  },
  {
   "cell_type": "markdown",
   "metadata": {},
   "source": [
    "## Python Exceptions\n",
    "\n",
    "* Don't put a 0 in front of another digit\n",
    "* Do not divide by zero eith eitehr kind of division\n",
    "\n",
    "## Things to Know\n",
    "\n",
    "* You can mix literal integers and variables\n",
    "* The expression on the right side of the `=` is calculated first, then assigned to the varialbe on the left\n",
    "* You can combine arithmetic operators with the assignment operator by putting the arithmetic operator before the `=`\n",
    "\n",
    "```\n",
    ">>> a = 4\n",
    "\n",
    ">>> a += 2\n",
    "\n",
    ">>> print(a)\n",
    "\n",
    "6\n",
    "```\n",
    "\n",
    "* Use `divmod` when you want both the truncated quotient and remainder of a division expression.\n",
    "\n",
    "```\n",
    ">>> divmod(9,5)\n",
    "\n",
    "(1,4)\n",
    "```\n",
    "## Mathematical Precedence\n",
    "\n",
    "Precendence rules apply to mathmatic expressions in Python. For example, multiplication takes precendence over addition. In the following example, `3` is multiplied my `4` first, then the result is then subtracted from `8`:\n",
    "```\n",
    "8 - 3 * 4\n",
    "```\n",
    "When in doubt, you can wrap your code in parentheses:\n",
    "```\n",
    "8 - (3 * 4)\n",
    "```\n",
    "## Integer Type Conversion\n",
    "\n",
    "To change other Python data types to an integer, use the `int()` function. This will keep the whole number and discard any fractional part.\n",
    "\n",
    "* When booleans `True` and `False` are converted to integers, they represent `1` and `0` respectively\n",
    "* Converting floating-point numbers to integers lops off everything following the decimal\n",
    "* Text strings containing only digits can be converted to integers\n",
    "\n",
    "* **If you try to convert something that doesn't look like a number, you'll get an excpetion.**\n",
    "\n",
    "## Floats\n",
    "\n",
    "Floating-point numbers (called floats) differ from integers in that they have decimal points.\n",
    "\n",
    "## Float Type Conversion\n",
    "\n",
    "To change other Python data types to a float, use the `float()` function.\n",
    "\n",
    "* When booleans `True` and `False` are converted to integers, they represent `1.0` and `0.0` respectively\n",
    "* Converting integers to floating-point numbers adds a decimal point\n",
    "* Text strings containing characters that would be a valid float can be converted\n",
    "\n",
    "## Strings\n",
    "\n",
    "In Python a string is:\n",
    "\n",
    "* Any sequence of characters\n",
    "* Immutable - you can't change a string in place\n",
    "* Enclosed in either single quotes, `''`, or double quotes, `\"\"`\n",
    "\n",
    "Having two kinds of quote characters allows you to create strings containing quote characters.\n",
    "\n",
    "```\n",
    "\"'Hello, is anyone there?,' she asked as she walked through the door.\"\n",
    "```\n",
    "\n",
    "You can also use triple quotes, `'''`. Their most common use is for creating multiline strings.\n",
    "\n",
    "## String Type Conversion\n",
    "\n",
    "To change other Python data types to a string, use the `str()` function.\n",
    "\n",
    "## Character Escaping\n",
    "\n",
    "You can *escape* the meaning of some characters within strings in order to achieve certain effects by preceding a character with a backslash, `\\`\n",
    "\n",
    "* `\\n` begins a new line\n",
    "* `\\t` adds a tab\n",
    "* `'It\\'s time to eat!'` specifies a literal quote inside the string\n",
    "\n",
    "**If you need a literal `\\`, type two of them, `\\\\`**"
   ]
  },
  {
   "cell_type": "code",
   "execution_count": 5,
   "metadata": {},
   "outputs": [
    {
     "name": "stdout",
     "output_type": "stream",
     "text": [
      "A man,\n",
      "A plan,\n",
      "A canal:\n",
      "Panama.\n"
     ]
    }
   ],
   "source": [
    "# example \\n\n",
    "\n",
    "palindrome = 'A man,\\nA plan,\\nA canal:\\nPanama.'\n",
    "\n",
    "print(palindrome)"
   ]
  },
  {
   "cell_type": "code",
   "execution_count": 6,
   "metadata": {},
   "outputs": [
    {
     "name": "stdout",
     "output_type": "stream",
     "text": [
      "\tHello, World!\n"
     ]
    }
   ],
   "source": [
    "# example \\t\n",
    "\n",
    "print('\\tHello, World!')"
   ]
  },
  {
   "cell_type": "code",
   "execution_count": 7,
   "metadata": {},
   "outputs": [
    {
     "data": {
      "text/plain": [
       "'\"I did nothing!\"'"
      ]
     },
     "execution_count": 7,
     "metadata": {},
     "output_type": "execute_result"
    }
   ],
   "source": [
    "# example with \\\"\n",
    "\n",
    "\"\\\"I did nothing!\\\"\""
   ]
  },
  {
   "cell_type": "markdown",
   "metadata": {},
   "source": [
    "## String Concatenation\n",
    "\n",
    "Python lets you combine literal strings or string variables with the `+` operator:"
   ]
  },
  {
   "cell_type": "code",
   "execution_count": 8,
   "metadata": {},
   "outputs": [
    {
     "name": "stdout",
     "output_type": "stream",
     "text": [
      "Duck Duck Goose\n"
     ]
    }
   ],
   "source": [
    "a = 'Duck'\n",
    "\n",
    "b = a\n",
    "\n",
    "c = 'Goose'\n",
    "\n",
    "print(a, b, c)"
   ]
  },
  {
   "cell_type": "markdown",
   "metadata": {},
   "source": [
    "You can also combine literal strings (not string variables) by having one after the other:"
   ]
  },
  {
   "cell_type": "code",
   "execution_count": 9,
   "metadata": {},
   "outputs": [
    {
     "name": "stdout",
     "output_type": "stream",
     "text": [
      "Hello. It's good to see you!\n"
     ]
    }
   ],
   "source": [
    "greeting = \"Hello. \" \"It's good to see you!\"\n",
    "\n",
    "print(greeting)"
   ]
  },
  {
   "cell_type": "markdown",
   "metadata": {},
   "source": [
    "## String Duplication\n",
    "\n",
    "You can duplicate a string using the `*` operator."
   ]
  },
  {
   "cell_type": "code",
   "execution_count": 10,
   "metadata": {},
   "outputs": [
    {
     "name": "stdout",
     "output_type": "stream",
     "text": [
      "Na, Na, Na, Na, Na, Na, Batman!\n"
     ]
    }
   ],
   "source": [
    "repeat = 'Na, ' * 6 + 'Batman!'\n",
    "\n",
    "print(repeat)"
   ]
  },
  {
   "cell_type": "markdown",
   "metadata": {},
   "source": [
    "## String Extraction\n",
    "\n",
    "To get a single character from a string, specify its offset in square brackerts. An offset is the number of positions a character is to the right from the start of the string.\n",
    "\n",
    "**If you specify an offset that is the length of the string or longer, you'll get an exception.**"
   ]
  },
  {
   "cell_type": "code",
   "execution_count": 11,
   "metadata": {},
   "outputs": [
    {
     "name": "stdout",
     "output_type": "stream",
     "text": [
      "l\n"
     ]
    }
   ],
   "source": [
    "greeting = \"Hello\"\n",
    "\n",
    "print(greeting[3])"
   ]
  },
  {
   "cell_type": "markdown",
   "metadata": {},
   "source": [
    "## Strings Are Immutable\n",
    "\n",
    "Strings are *immutable* - you can't change them in place. The following code, for example, will give you an exception:\n",
    "```\n",
    "name = 'Sally'\n",
    "name[0] = 'W'\n",
    "```\n",
    "Instead, you need to use some combination of string fuctions, such as `replace()` or `slice()`:"
   ]
  },
  {
   "cell_type": "code",
   "execution_count": 12,
   "metadata": {},
   "outputs": [
    {
     "name": "stdout",
     "output_type": "stream",
     "text": [
      "Sally\n"
     ]
    }
   ],
   "source": [
    "name = 'Sally'\n",
    "name.replace('S', 'W')\n",
    "\n",
    "print(name)"
   ]
  },
  {
   "cell_type": "code",
   "execution_count": 13,
   "metadata": {},
   "outputs": [
    {
     "name": "stdout",
     "output_type": "stream",
     "text": [
      "Penny\n"
     ]
    }
   ],
   "source": [
    "name = 'Benny'\n",
    "name = 'P' + name[1:]\n",
    "\n",
    "print(name)"
   ]
  },
  {
   "cell_type": "markdown",
   "metadata": {},
   "source": [
    "## Slice Method\n",
    "\n",
    "You can extract a substring from a string using the `slice` method. You define a slice using square brackets, a *start* offset, and *end* offset, and an optional *step* size.\n",
    "\n",
    "* If you do not specify a start, slice uses 0\n",
    "    * `[:end]` specifies from the beginning to the end offset minus 1\n",
    "* If you do not specify an end, slice uses the end of the string\n",
    "    * `[start:]` specifies from the start offset to the end\n",
    "* If you do not specify a start and stop, slice will return the entire sequence\n",
    "    * `[:]` extracts the entire string sequence from start to end\n",
    "* The step size indicates how many characters to skip\n",
    "    * `[start:end:step]` extracts from the start to the end minus1, skipping characters by the step\n",
    "* A positive step goes from left to right\n",
    "* A negative step goes from right to left"
   ]
  },
  {
   "cell_type": "code",
   "execution_count": 14,
   "metadata": {},
   "outputs": [
    {
     "data": {
      "text/plain": [
       "'thday'"
      ]
     },
     "execution_count": 14,
     "metadata": {},
     "output_type": "execute_result"
    }
   ],
   "source": [
    "string = 'Happy Birthday!'\n",
    "string[-6:-1]"
   ]
  },
  {
   "cell_type": "code",
   "execution_count": 15,
   "metadata": {},
   "outputs": [
    {
     "data": {
      "text/plain": [
       "'HpyBrha!'"
      ]
     },
     "execution_count": 15,
     "metadata": {},
     "output_type": "execute_result"
    }
   ],
   "source": [
    "string = 'Happy Birthday!'\n",
    "string[::2]"
   ]
  },
  {
   "cell_type": "code",
   "execution_count": 16,
   "metadata": {},
   "outputs": [
    {
     "data": {
      "text/plain": [
       "'!yadhtriB yppaH'"
      ]
     },
     "execution_count": 16,
     "metadata": {},
     "output_type": "execute_result"
    }
   ],
   "source": [
    "string = 'Happy Birthday!'\n",
    "string[::-1]"
   ]
  },
  {
   "cell_type": "code",
   "execution_count": 17,
   "metadata": {},
   "outputs": [
    {
     "data": {
      "text/plain": [
       "'a'"
      ]
     },
     "execution_count": 17,
     "metadata": {},
     "output_type": "execute_result"
    }
   ],
   "source": [
    "string = 'Happy Birthday!'\n",
    "string[-3:-4:-1]"
   ]
  },
  {
   "cell_type": "markdown",
   "metadata": {},
   "source": [
    "## Length Method\n",
    "\n",
    "You can use `len()` to return the length of certain data types. When you pass `len()` a string, it returns the number of characters in the string.\n",
    "```\n",
    ">>>len('Happy')\n",
    "\n",
    "5\n",
    "```\n",
    "## Split Method\n",
    "\n",
    "You can split a string into a list of smaller strings using the built-in string `split()` function."
   ]
  },
  {
   "cell_type": "code",
   "execution_count": 18,
   "metadata": {},
   "outputs": [
    {
     "data": {
      "text/plain": [
       "['do homework', 'do laundry', 'walk the dog']"
      ]
     },
     "execution_count": 18,
     "metadata": {},
     "output_type": "execute_result"
    }
   ],
   "source": [
    "todos = 'do homework, do laundry, walk the dog'\n",
    "todos.split(', ')"
   ]
  },
  {
   "cell_type": "code",
   "execution_count": 19,
   "metadata": {},
   "outputs": [
    {
     "data": {
      "text/plain": [
       "['do', 'homework,', 'do', 'laundry,', 'walk', 'the', 'dog']"
      ]
     },
     "execution_count": 19,
     "metadata": {},
     "output_type": "execute_result"
    }
   ],
   "source": [
    "# if you do not specify a separator, `split()` uses any sequence of white space chars\n",
    "todos = 'do homework, do laundry, walk the dog'\n",
    "todos.split()"
   ]
  },
  {
   "cell_type": "markdown",
   "metadata": {},
   "source": [
    "## Join Method\n",
    "\n",
    "The `join()` method is the opposite of `split()`. It collapses a list of strings into a single string."
   ]
  },
  {
   "cell_type": "code",
   "execution_count": 20,
   "metadata": {},
   "outputs": [
    {
     "data": {
      "text/plain": [
       "'do homework, do laundry, walk the dog'"
      ]
     },
     "execution_count": 20,
     "metadata": {},
     "output_type": "execute_result"
    }
   ],
   "source": [
    "todos = ['do homework', 'do laundry', 'walk the dog']\n",
    "', '.join(todos)"
   ]
  },
  {
   "cell_type": "markdown",
   "metadata": {},
   "source": [
    "## Fun With Strings\n",
    "\n",
    "Here a few more common string functions that you may find useful."
   ]
  },
  {
   "cell_type": "code",
   "execution_count": 21,
   "metadata": {},
   "outputs": [
    {
     "name": "stdout",
     "output_type": "stream",
     "text": [
      "True\n",
      "False\n"
     ]
    }
   ],
   "source": [
    "# startswith()\n",
    "# will return True if the string starts with the argument pass, False, otherwise\n",
    "\n",
    "sentence = 'Does anyone know what time it is?'\n",
    "print(sentence.startswith('Does')) # returns True\n",
    "print(sentence.startswith('Time')) # returns False"
   ]
  },
  {
   "cell_type": "code",
   "execution_count": 22,
   "metadata": {},
   "outputs": [
    {
     "name": "stdout",
     "output_type": "stream",
     "text": [
      "True\n",
      "False\n"
     ]
    }
   ],
   "source": [
    "# endswith()\n",
    "# will return True if the string ends with the argument pass, False, otherwise\n",
    "\n",
    "sentence = 'It is time to eat.'\n",
    "print(sentence.endswith('It is time to eat.')) # returns True\n",
    "print(sentence.endswith('Is it time to eat?')) # returns False\n"
   ]
  },
  {
   "cell_type": "code",
   "execution_count": 23,
   "metadata": {},
   "outputs": [
    {
     "name": "stdout",
     "output_type": "stream",
     "text": [
      "6\n"
     ]
    }
   ],
   "source": [
    "# find()\n",
    "# will return the offset of the first occurrence of a word\n",
    "\n",
    "poem = \"Roses are red, violets are blue. Python is awesome. Don't you think so, too!\"\n",
    "print(poem.find('are'))"
   ]
  },
  {
   "cell_type": "code",
   "execution_count": 24,
   "metadata": {},
   "outputs": [
    {
     "name": "stdout",
     "output_type": "stream",
     "text": [
      "23\n"
     ]
    }
   ],
   "source": [
    "# ffind()\n",
    "# will return the offset of the last occurrence of a word\n",
    "\n",
    "poem = \"Roses are red, violets are blue. Python is awesome. Don't you think so, too!\"\n",
    "print(poem.rfind('are'))"
   ]
  },
  {
   "cell_type": "code",
   "execution_count": 25,
   "metadata": {},
   "outputs": [
    {
     "name": "stdout",
     "output_type": "stream",
     "text": [
      "2\n"
     ]
    }
   ],
   "source": [
    "# count()\n",
    "# will return the number of times a sequence occurs in a string\n",
    "\n",
    "poem = \"Roses are red, violets are blue. Python is awesome. Don't you think so, too!\"\n",
    "print(poem.count('are'))"
   ]
  },
  {
   "cell_type": "code",
   "execution_count": 26,
   "metadata": {},
   "outputs": [
    {
     "name": "stdout",
     "output_type": "stream",
     "text": [
      "False\n"
     ]
    }
   ],
   "source": [
    "# isalnum()\n",
    "# will returns True if all characters in a string are either letters or numbers, \n",
    "# False, otherwise\n",
    "\n",
    "sentence = 'And the spoon jumped over the moon!'\n",
    "print(sentence.isalnum()) # returns False because there is an exclamation mark"
   ]
  },
  {
   "cell_type": "code",
   "execution_count": 27,
   "metadata": {},
   "outputs": [
    {
     "name": "stdout",
     "output_type": "stream",
     "text": [
      "Knock, knock. who's there?\n"
     ]
    }
   ],
   "source": [
    "# capitalize()\n",
    "# will capitalize the first word\n",
    "\n",
    "joke = 'knock, knock. Who\\'s there?'\n",
    "print(joke.capitalize())"
   ]
  },
  {
   "cell_type": "code",
   "execution_count": 28,
   "metadata": {},
   "outputs": [
    {
     "name": "stdout",
     "output_type": "stream",
     "text": [
      "Knock, Knock. Who'S There?\n"
     ]
    }
   ],
   "source": [
    "# title()\n",
    "# will capitalize all words\n",
    "\n",
    "joke = 'Knock, knock. Who\\'s there?'\n",
    "print(joke.title())"
   ]
  },
  {
   "cell_type": "code",
   "execution_count": 29,
   "metadata": {},
   "outputs": [
    {
     "name": "stdout",
     "output_type": "stream",
     "text": [
      "KNOCK, KNOCK. WHO'S THERE?\n"
     ]
    }
   ],
   "source": [
    "# upper()\n",
    "# will convert all characters to uppercase\n",
    "\n",
    "joke = 'Knock, knock. Who\\'s there?'\n",
    "print(joke.upper())"
   ]
  },
  {
   "cell_type": "code",
   "execution_count": 30,
   "metadata": {},
   "outputs": [
    {
     "name": "stdout",
     "output_type": "stream",
     "text": [
      "knock, knock. who's there?\n"
     ]
    }
   ],
   "source": [
    "# lower()\n",
    "# will convert all characters to lowercase\n",
    "\n",
    "joke = 'Knock, knock. Who\\'s there?'\n",
    "print(joke.lower())"
   ]
  },
  {
   "cell_type": "code",
   "execution_count": 31,
   "metadata": {},
   "outputs": [
    {
     "name": "stdout",
     "output_type": "stream",
     "text": [
      "kNOCK, KNOCK. wHO'S THERE?\n"
     ]
    }
   ],
   "source": [
    "# swapcase()\n",
    "# will swap upper- and lowercase\n",
    "\n",
    "joke = 'Knock, knock. Who\\'s there?'\n",
    "print(joke.swapcase())"
   ]
  },
  {
   "cell_type": "code",
   "execution_count": 32,
   "metadata": {},
   "outputs": [
    {
     "name": "stdout",
     "output_type": "stream",
     "text": [
      "a silly duck goes into a bar.\n",
      "a silly duck goes into a silly bar.\n"
     ]
    }
   ],
   "source": [
    "# replace()\n",
    "# will replace a specified number of occurrences of a substring with a new substring\n",
    "# will replace all occurences if a number of occurrences is not specified\n",
    "\n",
    "joke = 'a duck goes into a bar.'\n",
    "print(joke.replace('a ', 'a silly ', 1))\n",
    "print(joke.replace('a ', 'a silly '))"
   ]
  },
  {
   "cell_type": "markdown",
   "metadata": {},
   "source": [
    "Want more fun with strings? Check out the standard documentation link below.\n",
    "\n",
    "[http://bit.ly/py-docs.strings](http://bit.ly/py-docs.strings)\n",
    "\n",
    "## Student Exercise"
   ]
  },
  {
   "cell_type": "code",
   "execution_count": 33,
   "metadata": {},
   "outputs": [],
   "source": [
    "# Using what you've learned, complete the exercises below:\n",
    "\n",
    "# 1. Calculate the number of seconds in an hour\n",
    "# Assign the result to a variable called seconds_per_hour\n",
    "\n",
    "\n",
    "\n",
    "\n",
    "# 2. Calculate the number of seconds in a day\n",
    "# Assign the result to a variable called seconds_per_day\n",
    "\n",
    "\n",
    "\n",
    "\n",
    "# 3. Assign the string value \"What's up doc?\" to a variable called greeting\n",
    "# Use slice to return the substring 'doc'\n",
    "\n",
    "\n",
    "\n"
   ]
  }
 ],
 "metadata": {
  "kernelspec": {
   "display_name": "Python 3",
   "language": "python",
   "name": "python3"
  },
  "language_info": {
   "codemirror_mode": {
    "name": "ipython",
    "version": 3
   },
   "file_extension": ".py",
   "mimetype": "text/x-python",
   "name": "python",
   "nbconvert_exporter": "python",
   "pygments_lexer": "ipython3",
   "version": "3.7.2"
  }
 },
 "nbformat": 4,
 "nbformat_minor": 2
}
