{
 "cells": [
  {
   "cell_type": "markdown",
   "metadata": {},
   "source": [
    "# Functions\n",
    "\n",
    "Functions allow us ot organize code into manageable pieces.\n",
    "\n",
    "You can do two things with a function:\n",
    "\n",
    "* Define it\n",
    "* Call it\n",
    "\n",
    "To define a Python function, you type def, the function name, parentheses enclosing any input parameters to the function, and then finally, a colon(:). Function names have the same rules as variable names (they must start with a letter or _ and contain only letters, numbers, or _)."
   ]
  },
  {
   "cell_type": "code",
   "execution_count": 1,
   "metadata": {},
   "outputs": [],
   "source": [
    "def do_nothing():\n",
    "    pass"
   ]
  },
  {
   "cell_type": "markdown",
   "metadata": {},
   "source": [
    "Python requires the pass statement to show that this function does nothing."
   ]
  },
  {
   "cell_type": "markdown",
   "metadata": {},
   "source": [
    "You call this function by typing its name and parentheses."
   ]
  },
  {
   "cell_type": "code",
   "execution_count": 3,
   "metadata": {},
   "outputs": [],
   "source": [
    "do_nothing()"
   ]
  },
  {
   "cell_type": "code",
   "execution_count": 19,
   "metadata": {},
   "outputs": [
    {
     "name": "stdout",
     "output_type": "stream",
     "text": [
      "Hello, Mady!\n"
     ]
    }
   ],
   "source": [
    "def greeting(name):\n",
    "    print('Hello, ' + name + '!')\n",
    "    \n",
    "greeting('Mady')"
   ]
  },
  {
   "cell_type": "markdown",
   "metadata": {},
   "source": [
    "Define a function max_number() that takes two numbers as arguments and returns the largest of them. Use the if-then-else construct available in Python."
   ]
  }
 ],
 "metadata": {
  "kernelspec": {
   "display_name": "Python 3",
   "language": "python",
   "name": "python3"
  },
  "language_info": {
   "codemirror_mode": {
    "name": "ipython",
    "version": 3
   },
   "file_extension": ".py",
   "mimetype": "text/x-python",
   "name": "python",
   "nbconvert_exporter": "python",
   "pygments_lexer": "ipython3",
   "version": "3.7.2"
  }
 },
 "nbformat": 4,
 "nbformat_minor": 2
}
